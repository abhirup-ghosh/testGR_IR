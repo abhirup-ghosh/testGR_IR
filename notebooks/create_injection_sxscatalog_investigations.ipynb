{
 "cells": [
  {
   "cell_type": "code",
   "execution_count": 1,
   "metadata": {},
   "outputs": [],
   "source": [
    "import lal\n",
    "import json\n",
    "import numpy as np\n",
    "import sys\n",
    "sys.path.append('../src')\n",
    "sys.path.append('../scripts')\n",
    "import standard_gwtransf as gw\n",
    "import os\n",
    "import pycbc\n",
    "import pycbc.noise\n",
    "import pycbc.psd\n",
    "from pycbc.frame import query_and_read_frame\n",
    "from pycbc.types import timeseries\n",
    "from pycbc.psd import inverse_spectrum_truncation, interpolate\n",
    "from pycbc.waveform import get_fd_waveform, get_td_waveform\n",
    "import pycbc.filter.matchedfilter as mfilter\n",
    "from pycbc import frame as Fr\n",
    "import scipy.signal\n",
    "import imrtgrutils_final as tgr\n",
    "import nr_fits as nr\n",
    "import glob\n",
    "import matplotlib.pyplot as plt\n",
    "import lalsimulation"
   ]
  },
  {
   "cell_type": "markdown",
   "metadata": {},
   "source": [
    "### Read in details of the LVC-NR catalog, and separate out the waveforms from the SXS catalog"
   ]
  },
  {
   "cell_type": "code",
   "execution_count": 2,
   "metadata": {},
   "outputs": [],
   "source": [
    "f_lvcnr = open('/home/abhirup/ligo-nr-data/lvcnr-lfs.json', 'r')\n",
    "datastore = json.load(f_lvcnr)\n",
    "f_lvcnr.close()\n",
    "\n",
    "sxs_list = []\n",
    "\n",
    "for idx in range(len(datastore)):\n",
    "    if datastore[idx]['NR-group'] == 'SXS':\n",
    "        sxs_list.append(idx)"
   ]
  },
  {
   "cell_type": "markdown",
   "metadata": {},
   "source": [
    "### Read in science quality data stretches from O1 and O2\n",
    "For O2, we have chosen coincident segments for HL and HLV configurations, separately."
   ]
  },
  {
   "cell_type": "code",
   "execution_count": 3,
   "metadata": {},
   "outputs": [],
   "source": [
    "o1_L1H1_start_times, o1_L1H1_end_times, o1_L1H1_stretches = np.loadtxt('../data/systematics_error_characterisation/o1_L1H1_quality_segments.txt', unpack=True)\n",
    "o2_L1H1_start_times, o2_L1H1_end_times, o2_L1H1_stretches = np.loadtxt('../data/systematics_error_characterisation/o2_L1H1_quality_segments.txt', unpack=True)\n",
    "o2_L1H1V1_start_times, o2_L1H1V1_end_times, o2_L1H1V1_stretches = np.loadtxt('../data/systematics_error_characterisation/o2_L1H1V1_quality_segments.txt', unpack=True)"
   ]
  },
  {
   "cell_type": "markdown",
   "metadata": {},
   "source": [
    "### Specifying the parameters of the binary to be simulated using a specific SXS-NR waveform\n",
    "The SXS waveform has information about the mass ratio, q or (m1, m2) (normalised to a total mass M = 1 M_sun) and the spins: (s1x, s1y, s1z, s2x, s2y, s2z). We choose the other parameters (iota, pol, ra, dec, snr) and normalise to a total mass M = 100 M_sun."
   ]
  },
  {
   "cell_type": "code",
   "execution_count": 4,
   "metadata": {},
   "outputs": [
    {
     "name": "stdout",
     "output_type": "stream",
     "text": [
      "... chose: SXS_BBH_0169 340 /home/abhirup/ligo-nr-data/lvcnr-lfs/SXS/SXS_BBH_0169_Res4.h5\n"
     ]
    },
    {
     "ename": "RuntimeError",
     "evalue": "Invalid argument",
     "output_type": "error",
     "traceback": [
      "\u001b[0;31m---------------------------------------------------------------------------\u001b[0m",
      "\u001b[0;31mRuntimeError\u001b[0m                              Traceback (most recent call last)",
      "\u001b[0;32m<ipython-input-4-8995bd4720af>\u001b[0m in \u001b[0;36m<module>\u001b[0;34m()\u001b[0m\n\u001b[1;32m      9\u001b[0m \u001b[0mf_low\u001b[0m \u001b[0;34m=\u001b[0m \u001b[0;36m25.\u001b[0m\u001b[0;34m\u001b[0m\u001b[0m\n\u001b[1;32m     10\u001b[0m \u001b[0mf_ref\u001b[0m \u001b[0;34m=\u001b[0m \u001b[0mf_low\u001b[0m\u001b[0;34m\u001b[0m\u001b[0m\n\u001b[0;32m---> 11\u001b[0;31m \u001b[0ms1x\u001b[0m\u001b[0;34m,\u001b[0m\u001b[0ms1y\u001b[0m\u001b[0;34m,\u001b[0m\u001b[0ms1z\u001b[0m\u001b[0;34m,\u001b[0m\u001b[0ms2x\u001b[0m\u001b[0;34m,\u001b[0m\u001b[0ms2y\u001b[0m\u001b[0;34m,\u001b[0m\u001b[0ms2z\u001b[0m \u001b[0;34m=\u001b[0m \u001b[0mlalsimulation\u001b[0m\u001b[0;34m.\u001b[0m\u001b[0mSimInspiralNRWaveformGetSpinsFromHDF5File\u001b[0m\u001b[0;34m(\u001b[0m\u001b[0mf_ref\u001b[0m\u001b[0;34m,\u001b[0m \u001b[0mM\u001b[0m\u001b[0;34m,\u001b[0m \u001b[0;34m(\u001b[0m\u001b[0;34m'/home/abhirup/ligo-nr-data/lvcnr-lfs/%s'\u001b[0m\u001b[0;34m%\u001b[0m\u001b[0mpath\u001b[0m\u001b[0;34m)\u001b[0m\u001b[0;34m.\u001b[0m\u001b[0mencode\u001b[0m\u001b[0;34m(\u001b[0m\u001b[0;34m'utf-8'\u001b[0m\u001b[0;34m)\u001b[0m\u001b[0;34m)\u001b[0m\u001b[0;34m\u001b[0m\u001b[0m\n\u001b[0m\u001b[1;32m     12\u001b[0m \u001b[0miota\u001b[0m \u001b[0;34m=\u001b[0m \u001b[0mnp\u001b[0m\u001b[0;34m.\u001b[0m\u001b[0marccos\u001b[0m\u001b[0;34m(\u001b[0m\u001b[0mnp\u001b[0m\u001b[0;34m.\u001b[0m\u001b[0mrandom\u001b[0m\u001b[0;34m.\u001b[0m\u001b[0muniform\u001b[0m\u001b[0;34m(\u001b[0m\u001b[0;34m-\u001b[0m\u001b[0;36m1.\u001b[0m\u001b[0;34m,\u001b[0m \u001b[0;36m1.\u001b[0m\u001b[0;34m)\u001b[0m\u001b[0;34m)\u001b[0m\u001b[0;34m\u001b[0m\u001b[0m\n\u001b[1;32m     13\u001b[0m \u001b[0mpol\u001b[0m \u001b[0;34m=\u001b[0m \u001b[0mnp\u001b[0m\u001b[0;34m.\u001b[0m\u001b[0mrandom\u001b[0m\u001b[0;34m.\u001b[0m\u001b[0muniform\u001b[0m\u001b[0;34m(\u001b[0m\u001b[0;36m0.\u001b[0m\u001b[0;34m,\u001b[0m \u001b[0mnp\u001b[0m\u001b[0;34m.\u001b[0m\u001b[0mpi\u001b[0m\u001b[0;34m)\u001b[0m\u001b[0;34m\u001b[0m\u001b[0m\n",
      "\u001b[0;31mRuntimeError\u001b[0m: Invalid argument"
     ]
    }
   ],
   "source": [
    "idx = np.random.choice(sxs_list)\n",
    "name = datastore[idx]['name'].replace(':','_')\n",
    "path = datastore[idx]['path']\n",
    "\n",
    "print '... chose:', name, idx, '/home/abhirup/ligo-nr-data/lvcnr-lfs/%s'%path\n",
    "\n",
    "M = np.random.uniform(20,160) # total mass chosen random from distribution uniform in [20,160] M_sun\n",
    "m1, m2 = datastore[idx]['mass1']*M, datastore[idx]['mass2']*M\n",
    "f_low = 25.\n",
    "f_ref = f_low\n",
    "s1x,s1y,s1z,s2x,s2y,s2z = lalsimulation.SimInspiralNRWaveformGetSpinsFromHDF5File(f_ref, M, ('/home/abhirup/ligo-nr-data/lvcnr-lfs/%s'%path).encode('utf-8'))\n",
    "iota = np.arccos(np.random.uniform(-1., 1.))\n",
    "pol = np.random.uniform(0., np.pi)\n",
    "ra = np.random.uniform(0., 2.*np.pi)\n",
    "dec = np.random.uniform(-np.pi/2., np.pi/2.)\n",
    "snr = np.random.uniform(8,25)   # choose a random SNR uniformly distributed in [8,25]\n",
    "\n",
    "print '... chose: M:%.2f, SNR:%.2f'%(M,snr)"
   ]
  },
  {
   "cell_type": "markdown",
   "metadata": {},
   "source": [
    "### Choosing an observing run and detector configuration at random"
   ]
  },
  {
   "cell_type": "code",
   "execution_count": null,
   "metadata": {},
   "outputs": [],
   "source": [
    "if obs_run == 'o1':\n",
    "    if det_config == 'HL':\n",
    "          start_times, end_times, stretches = o1_L1H1_start_times, o1_L1H1_end_times, o1_L1H1_stretches\n",
    "    elif det_config == 'HLV':\n",
    "          start_times, end_times, stretches = o2_L1H1V1_start_times, o2_L1H1V1_end_times, o2_L1H1V1_stretches\n",
    "elif obs_run == 'o2':\n",
    "    start_times, end_times, stretches = o2_L1H1_start_times, o2_L1H1_end_times, o2_L1H1_stretches\n",
    "\n",
    "# choose a random science quality data stretch more than 128 seconds and place the trigger at the centre of that data chunk\n",
    "index = np.random.randint(len(stretches))      # choose a random science quality data stretch\n",
    "if stretches[index] > 128:                     # ensure it is greater than 128 seconds long\n",
    "\n",
    "    # choose a 128 second window in that stretch and place the trigger time at the centre\n",
    "    gps_start_time = np.random.randint(start_times[index],end_times[index]-128)\n",
    "    gps_end_time = int(gps_start_time + 128)\n",
    "    geocentric_end_time = np.ceil(gps_start_time + (gps_end_time - gps_start_time)/2.)\n",
    "\n",
    "    print '... chose:', det_config, obs_run, gps_start_time, gps_end_time, geocentric_end_time"
   ]
  },
  {
   "cell_type": "code",
   "execution_count": null,
   "metadata": {},
   "outputs": [],
   "source": [
    "tag_sxs = name + '_' + obs_run + '_' + det_config + '_' + str(int(geocentric_end_time)) + '_sxs'\n",
    "tag_imrppv2 = name + '_' + obs_run + '_' + det_config + '_' + str(int(geocentric_end_time)) + '_imrppv2'\n",
    "\n",
    "pycbc_generate_hwinj_command_sxs = \"pycbc_generate_hwinj --numrel-data /home/abhirup/ligo-nr-data/lvcnr-lfs/%s --approximant NR_hdf5 --waveform-low-frequency-cutoff 25 --mass1 %f --mass2 %f --spin1x %f --spin1y %f --spin1z %f --spin2x %f --spin2y %f --spin2z %f --inclination %f --polarization %f --ra %f --dec %f --instruments %s --sample-rate H1:16384 L1:16384 V1:16384 --taper TAPER_START --network-snr %f --low-frequency-cutoff 25.0 --high-frequency-cutoff 1024.0 --psd-model H1:aLIGOZeroDetHighPower L1:aLIGOZeroDetHighPower V1:AdVDesignSensitivityP1200087 --geocentric-end-time %d --gps-start-time %d --gps-end-time %d --strain-high-pass 1 --psd-output H1:%s_H1_psd.txt L1:%s_L1_psd.txt V1:%s_V1_psd.txt --tag %s\"%(path, m1, m2, s1x, s1y, s1z, s2x, s2y, s2z, iota, pol, ra, dec, ifo_map[det_config], snr, geocentric_end_time, gps_start_time, gps_end_time, tag_sxs, tag_sxs, tag_sxs, tag_sxs)\n",
    "pycbc_generate_hwinj_command_imrppv2 = \"pycbc_generate_hwinj --approximant IMRPhenomPv2 --order pseudoFourPN --waveform-low-frequency-cutoff 25 --mass1 %f --mass2 %f --spin1x %f --spin1y %f --spin1z %f --spin2x %f --spin2y %f --spin2z %f --inclination %f --polarization %f --ra %f --dec %f --instruments %s --sample-rate H1:16384 L1:16384 V1:16384 --taper TAPER_START --network-snr %f --low-frequency-cutoff 25.0 --high-frequency-cutoff 1024.0 --psd-model H1:aLIGOZeroDetHighPower L1:aLIGOZeroDetHighPower V1:AdVDesignSensitivityP1200087 --geocentric-end-time %d --gps-start-time %d --gps-end-time %d --strain-high-pass 1 --psd-output H1:%s_H1_psd.txt L1:%s_L1_psd.txt V1:%s_V1_psd.txt --tag %s\"%(m1, m2, s1x, s1y, s1z, s2x, s2y, s2z, iota, pol, ra, dec, ifo_map[det_config], snr, geocentric_end_time, gps_start_time, gps_end_time, tag_imrppv2, tag_imrppv2, tag_imrppv2, tag_imrppv2)\n",
    "\n",
    "os.system(pycbc_generate_hwinj_command_sxs)\n",
    "os.system(pycbc_generate_hwinj_command_imrppv2)"
   ]
  },
  {
   "cell_type": "code",
   "execution_count": null,
   "metadata": {},
   "outputs": [],
   "source": [
    "hw_inj_start_time_sxs = int(glob.glob('%s_*.xml.gz'%tag_sxs)[0][-17:-7])\n",
    "hw_inj_start_time_imrppv2 = int(glob.glob('%s_*.xml.gz'%tag_imrppv2)[0][-17:-7])\n",
    "print hw_inj_start_time_sxs, hw_inj_start_time_imrppv2"
   ]
  },
  {
   "cell_type": "code",
   "execution_count": null,
   "metadata": {},
   "outputs": [],
   "source": [
    "tag, hw_inj_start_time =  tag_sxs, hw_inj_start_time_sxs\n",
    "\n",
    "pycbc_insert_frame_hwinj_h1 = 'pycbc_insert_frame_hwinj --fake-strain zeroNoise --low-frequency-cutoff 25 --gps-start-time %d --gps-end-time %d --pad-data 8 --sample-rate 16384 --hwinj-file %s_%d_H1.txt  --hwinj-start-time %d --ifo H1 --output-file %s_H-H1HWINJ.gwf --strain-high-pass 1'%(gps_start_time, gps_end_time, tag, hw_inj_start_time,  hw_inj_start_time, tag)\n",
    "pycbc_insert_frame_hwinj_l1 = 'pycbc_insert_frame_hwinj --fake-strain zeroNoise --low-frequency-cutoff 25 --gps-start-time %d --gps-end-time %d --pad-data 8 --sample-rate 16384 --hwinj-file %s_%d_L1.txt  --hwinj-start-time %d --ifo L1 --output-file %s_L-L1HWINJ.gwf --strain-high-pass 1'%(gps_start_time,gps_end_time, tag, hw_inj_start_time, hw_inj_start_time, tag)\n",
    "pycbc_insert_frame_hwinj_v1 = 'pycbc_insert_frame_hwinj --fake-strain zeroNoise --low-frequency-cutoff 25 --gps-start-time %d --gps-end-time %d --pad-data 8 --sample-rate 16384 --hwinj-file %s_%d_L1.txt  --hwinj-start-time %d --ifo V1 --output-file %s_V-V1HWINJ.gwf --strain-high-pass 1'%(gps_start_time,gps_end_time, tag, hw_inj_start_time, hw_inj_start_time, tag)\n",
    "\n",
    "os.system(pycbc_insert_frame_hwinj_h1)\n",
    "print '... ran pycbc_insert_frame_hwinj for H1: ', pycbc_insert_frame_hwinj_h1\n",
    "\n",
    "os.system(pycbc_insert_frame_hwinj_l1)\n",
    "print '... ran pycbc_insert_frame_hwinj for L1: ', pycbc_insert_frame_hwinj_l1\n",
    "\n",
    "os.system(pycbc_insert_frame_hwinj_v1)\n",
    "print '... ran pycbc_insert_frame_hwinj for V1: ', pycbc_insert_frame_hwinj_v1"
   ]
  },
  {
   "cell_type": "markdown",
   "metadata": {},
   "source": [
    "# Investigations"
   ]
  },
  {
   "cell_type": "code",
   "execution_count": null,
   "metadata": {},
   "outputs": [],
   "source": [
    "tag_imrppv2 = 'SXS_BBH_0202_o2_HLV_1177532009_imrppv2'\n",
    "tag_sxs = 'SXS_BBH_0202_o2_HLV_1177532009_sxs'\n",
    "\n",
    "gps_start_time, gps_end_time, geocentric_end_time = 1173178789, 1173178917, 1173178853.0\n",
    "\n",
    "h1_inj_imrppv2 = glob.glob('%s_*_H1.txt'%(tag_imrppv2))[0]\n",
    "h1_inj_imrppv2 = np.genfromtxt(h1_inj_imrppv2)\n",
    "h1_inj_sxs = glob.glob('%s_*_H1.txt'%(tag_sxs))[0]\n",
    "h1_inj_sxs = np.genfromtxt(h1_inj_sxs)\n",
    "\n",
    "h1_hoft_hwinj_imrppv2 = Fr.read_frame('%s_H-H1HWINJ.gwf'%tag_imrppv2, 'H1:HWINJ_INJECTED', gps_start_time, gps_end_time)\n",
    "h1_hoft_hwinj_sxs = Fr.read_frame('%s_H-H1HWINJ.gwf'%tag_sxs, 'H1:HWINJ_INJECTED', gps_start_time, gps_end_time)\n",
    "\n",
    "h1_freq_imrppv2, h1_psd_imrppv2 = np.genfromtxt('%s_H1_psd.txt'%tag_imrppv2, unpack=True)\n",
    "h1_freq_sxs, h1_psd_sxs = np.genfromtxt('%s_H1_psd.txt'%tag_sxs, unpack=True)\n",
    "\n",
    "plt.figure(figsize=(15,5))\n",
    "plt.subplot(131)\n",
    "plt.plot(h1_inj_imrppv2, alpha=0.2, color='r')\n",
    "plt.plot(h1_inj_sxs, alpha=0.2, color='k', ls='dashed')\n",
    "\n",
    "plt.subplot(132)\n",
    "plt.plot(h1_hoft_hwinj_imrppv2.sample_times, h1_hoft_hwinj_imrppv2, alpha=0.2, color='r')\n",
    "plt.plot(h1_hoft_hwinj_sxs.sample_times, h1_hoft_hwinj_sxs, alpha=0.2, color='k', ls='dashed')\n",
    "plt.axvline(x=geocentric_end_time)\n",
    "plt.xlim([geocentric_end_time-1, geocentric_end_time+0.1])\n",
    "plt.hold(True)\n",
    "\n",
    "plt.subplot(133)\n",
    "plt.loglog(h1_freq_imrppv2, h1_psd_imrppv2,alpha=0.2, color='r')\n",
    "plt.loglog(h1_freq_sxs, h1_psd_sxs, alpha=0.2, color='k', ls='dashed')\n",
    "plt.xlim([25,1024])\n",
    "\n",
    "plt.show()"
   ]
  },
  {
   "cell_type": "code",
   "execution_count": null,
   "metadata": {},
   "outputs": [],
   "source": []
  }
 ],
 "metadata": {
  "kernelspec": {
   "display_name": "Python 2",
   "language": "python",
   "name": "python2"
  },
  "language_info": {
   "codemirror_mode": {
    "name": "ipython",
    "version": 2
   },
   "file_extension": ".py",
   "mimetype": "text/x-python",
   "name": "python",
   "nbconvert_exporter": "python",
   "pygments_lexer": "ipython2",
   "version": "2.7.9"
  }
 },
 "nbformat": 4,
 "nbformat_minor": 2
}
