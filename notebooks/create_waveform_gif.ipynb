{
 "cells": [
  {
   "cell_type": "code",
   "execution_count": 10,
   "metadata": {},
   "outputs": [],
   "source": [
    "import os, lal, subprocess, scipy, numpy as np\n",
    "from scipy.interpolate import interp1d\n",
    "import standard_gwtransf as gw\n",
    "import pycbc\n",
    "from pycbc import waveform\n",
    "import os\n",
    "import matplotlib.pyplot as plt\n",
    "import imageio"
   ]
  },
  {
   "cell_type": "code",
   "execution_count": 11,
   "metadata": {},
   "outputs": [],
   "source": [
    "def lalsiminspiraltd_waveform_SI(approximant,mc,q,dL,iota,phiref,flow,dt):\n",
    "\n",
    "  try:\n",
    "        m1, m2 = gw.comp_from_mcq(mc, q)\n",
    "        eta = gw.eta_from_q(q)\n",
    "        mtot = m1 + m2\n",
    "        hpt, hct = waveform.get_td_waveform(approximant=approximant,mass1=m1, mass2=m2, distance=dL, inclination=iota, coa_phase=phiref, delta_t=dt, f_lower=flow)\n",
    "\n",
    "        print '... generated waveform for m1=%.2f, m2=%.2f, Mc=%.2f, q=%.2f, mtot=%.2f, eta=%.4f'%(m1,m2,mc,q, mtot, eta)\n",
    "\n",
    "        t = hpt.sample_times\n",
    "        t = np.array(t)\n",
    "        hpt = np.array(hpt.data)\n",
    "        hct = np.array(hct.data)\n",
    "\n",
    "        return t, hpt, hct\n",
    "  except RuntimeError:\n",
    "        print '... not generated waveform for m1=%.2f and m2=%.2f'%(m1,m2)\n",
    "  except TypeError:\n",
    "        print '... not generated waveform for m1=%.2f and m2=%.2f'%(m1,m2)"
   ]
  },
  {
   "cell_type": "code",
   "execution_count": 12,
   "metadata": {},
   "outputs": [
    {
     "name": "stdout",
     "output_type": "stream",
     "text": [
      "... generated waveform for m1=50.00, m2=50.00, Mc=43.53, q=1.00, mtot=100.00, eta=0.2500\n"
     ]
    }
   ],
   "source": [
    "mc, q = gw.mcq_from_comp(50,50)\n",
    "approximant,dL,iota,phiref,flow,dt = 'SEOBNRv4', 500, 0., 0., 20., 1/512.\n",
    "\n",
    "t, hpt, hct = lalsiminspiraltd_waveform_SI(approximant,mc,q,dL,iota,phiref,flow,dt)"
   ]
  },
  {
   "cell_type": "code",
   "execution_count": 13,
   "metadata": {},
   "outputs": [],
   "source": [
    "images = []\n",
    "for idx in range(len(t)):\n",
    "    plt.figure(figsize=(10,5))\n",
    "    plt.plot(t[:idx], hpt[:idx])\n",
    "    plt.xlim([-0.3, 0.1])\n",
    "    plt.ylim([3e-21, -3e-21])\n",
    "    filename = './waveform_png/fig_%d.png'%idx\n",
    "    plt.savefig(filename)\n",
    "    plt.close()\n",
    "    images.append(imageio.imread(filename))\n",
    "imageio.mimsave('./movie.gif', images)"
   ]
  },
  {
   "cell_type": "code",
   "execution_count": 14,
   "metadata": {},
   "outputs": [
    {
     "data": {
      "text/html": [
       "<img src=\"./movie.gif\">"
      ],
      "text/plain": [
       "<IPython.core.display.HTML object>"
      ]
     },
     "execution_count": 14,
     "metadata": {},
     "output_type": "execute_result"
    }
   ],
   "source": [
    "from IPython.display import HTML\n",
    "HTML('<img src=\"./movie.gif\">')"
   ]
  },
  {
   "cell_type": "code",
   "execution_count": null,
   "metadata": {},
   "outputs": [],
   "source": []
  }
 ],
 "metadata": {
  "kernelspec": {
   "display_name": "Python 2",
   "language": "python",
   "name": "python2"
  },
  "language_info": {
   "codemirror_mode": {
    "name": "ipython",
    "version": 2
   },
   "file_extension": ".py",
   "mimetype": "text/x-python",
   "name": "python",
   "nbconvert_exporter": "python",
   "pygments_lexer": "ipython2",
   "version": "2.7.9"
  }
 },
 "nbformat": 4,
 "nbformat_minor": 2
}
