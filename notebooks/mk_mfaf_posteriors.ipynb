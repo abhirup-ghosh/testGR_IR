{
 "cells": [
  {
   "cell_type": "code",
   "execution_count": 17,
   "metadata": {},
   "outputs": [],
   "source": [
    "import numpy as np\n",
    "import matplotlib.pyplot as plt\n",
    "import glob\n",
    "import imrtestgr as tgr\n",
    "import confidence as conf"
   ]
  },
  {
   "cell_type": "code",
   "execution_count": 18,
   "metadata": {},
   "outputs": [],
   "source": [
    "postloc_root = '/home/abhirup/Documents/Work/O2/2017/August/14/1186741861p5268/G297595/lalinference/GW170814_injections_runs'"
   ]
  },
  {
   "cell_type": "code",
   "execution_count": 31,
   "metadata": {},
   "outputs": [
    {
     "name": "stdout",
     "output_type": "stream",
     "text": [
      "55\n",
      "/home/abhirup/Documents/Work/O2/2017/August/14/1186741861p5268/G297595/lalinference/GW170814_injections_runs/GW170814_100injs/postinspiral/lalinferencenest/IMRPhenomPv2pseudoFourPN/1186741911.000000000-55/V1H1L1/posterior_samples.dat\n"
     ]
    }
   ],
   "source": [
    "for idx in range(101):\n",
    "    postloc = glob.glob(postloc_root + '/GW170814_100injs/postinspiral/lalinferencenest/IMRPhenomPv2pseudoFourPN/*-%d/V1H1L1/posterior_samples.dat'%idx)[0]\n",
    "    print postloc\n",
    "    data = np.genfromtxt(postloc, names=True, dtype=None)\n",
    "    Mf, chif = data['mf'], data['af']\n",
    "    Mf_lim = max(Mf); chif_lim = max(chif);\n",
    "    Mf_bins = np.linspace(-Mf_lim, Mf_lim, 401)\n",
    "    chif_bins = np.linspace(-chif_lim, chif_lim, 401)\n",
    "    Mf_intp = (Mf_bins[:-1] + Mf_bins[1:])/2.\n",
    "    chif_intp = (chif_bins[:-1] + chif_bins[1:])/2.\n",
    "    P_Mfchif, Mf_bins, chif_bins = np.histogram2d(Mf, chif, bins=(Mf_bins, chif_bins), normed=True)\n",
    "    P_Mfchif = P_Mfchif.T\n",
    "    conf_Mfchif = conf.confidence(P_Mfchif)\n",
    "    s1_Mfchif = conf_Mfchif.height_from_level(0.68)\n",
    "    s2_Mfchif = conf_Mfchif.height_from_level(0.95)\n",
    "    plt.figure(figsize=(5,5))\n",
    "    plt.subplot2grid((3,3), (0,0), colspan=2)\n",
    "    plt.hist(Mf, bins=50, normed=True, histtype='step')\n",
    "    plt.axvline(x=60.0, color='k', ls='dashed')\n",
    "    plt.xlim([30,90])\n",
    "    plt.ylabel('$P(M_f)$')\n",
    "    plt.subplot2grid((3,3), (1,0), colspan=2, rowspan=2)\n",
    "    plt.contour(Mf_intp, chif_intp, tgr.gf(P_Mfchif), levels=(s2_Mfchif,s1_Mfchif), linewidths=(1,1.5))\n",
    "    plt.xlabel('$M_f [M_{\\odot}]$')\n",
    "    plt.ylabel('$\\chi_f$')\n",
    "    plt.axhline(y=0.71, color='k', ls='dashed')\n",
    "    plt.axvline(x=60.0, color='k', ls='dashed')\n",
    "    plt.xlim([30,90])\n",
    "    plt.ylim([0.4,0.9])\n",
    "    plt.subplot2grid((3,3), (1,2), rowspan=2)\n",
    "    plt.hist(chif, bins=50, normed=True, orientation='horizontal', histtype='step')\n",
    "    plt.axhline(y=0.71, color='k', ls='dashed')\n",
    "    plt.ylim([0.4,0.9])\n",
    "    plt.xlabel('$P(\\chi_f)$')\n",
    "    plt.tight_layout()\n",
    "    plt.title('injection %03d'%idx)\n",
    "    plt.savefig('./Mfaf_GW170814_100injs_%03d.png'%idx)\n",
    "    plt.close()"
   ]
  },
  {
   "cell_type": "code",
   "execution_count": 41,
   "metadata": {},
   "outputs": [
    {
     "name": "stdout",
     "output_type": "stream",
     "text": [
      "8.49332675617 11\n",
      "8.01892332204 12\n",
      "8.43832902944 13\n",
      "6.98102145605 14\n",
      "5.80305470649 15\n",
      "7.28209862183 16\n",
      "9.83077266104 17\n",
      "8.29465911682 18\n",
      "6.65618466328 19\n",
      "9.43526406806 20\n",
      "10.1293482765 21\n",
      "7.53205651139 22\n",
      "8.38121153462 23\n",
      "7.71256813959 24\n",
      "6.68454651773 25\n",
      "6.91963556368 26\n",
      "8.96538902273 27\n",
      "9.45935286745 28\n",
      "8.40157358311 29\n",
      "7.87125339018 30\n",
      "9.51460318165 31\n",
      "8.17509796794 32\n",
      "6.43847698357 33\n",
      "8.73210079079 34\n",
      "8.81740528506 35\n",
      "8.85725627954 36\n",
      "7.2434275404 37\n",
      "9.75336310685 38\n",
      "9.88403884055 39\n",
      "10.4382512852 40\n",
      "2.96948197866 41\n",
      "7.37100642026 42\n",
      "9.94479729969 43\n",
      "7.33131580338 44\n",
      "8.05254663699 45\n",
      "10.4502527802 46\n",
      "10.6902934986 47\n",
      "8.76049565646 48\n",
      "9.02536833235 49\n",
      "7.82206688373 50\n",
      "8.82608587198 51\n",
      "7.29233633943 52\n",
      "7.08832289369 53\n",
      "9.09027799281 54\n",
      "6.27630044645 55\n",
      "9.39202311045 56\n",
      "9.36098654592 57\n",
      "8.85647432044 58\n",
      "7.92015827933 59\n",
      "8.86573265518 60\n",
      "8.86958225373 61\n",
      "10.5962889694 62\n",
      "8.52605985221 63\n",
      "9.01843936546 64\n",
      "7.64534735406 65\n",
      "7.78766932242 66\n",
      "9.22795938919 67\n",
      "8.27356016663 68\n",
      "8.86277181243 69\n",
      "6.35019648781 70\n",
      "8.1845332196 71\n",
      "8.9134297524 72\n",
      "7.90233790404 73\n",
      "8.99406462023 74\n",
      "8.32263808438 75\n",
      "7.88039727229 76\n",
      "8.03682526296 77\n",
      "9.05966350069 78\n",
      "7.21929062567 79\n",
      "10.0878623893 80\n",
      "7.69250352476 81\n",
      "8.45589481072 82\n",
      "8.08654313678 83\n",
      "7.89395155511 84\n",
      "10.7225441115 85\n",
      "8.56395707705 86\n",
      "10.6310010008 87\n",
      "7.80227732081 88\n",
      "7.21909757402 89\n",
      "8.71815996587 90\n",
      "11.063854275 91\n",
      "7.85763798373 92\n",
      "8.37605080466 93\n",
      "7.12455309355 94\n",
      "8.63976056198 95\n",
      "9.22067726351 96\n",
      "7.97650032862 97\n",
      "8.0578990108 98\n",
      "8.55422557294 99\n"
     ]
    },
    {
     "ename": "IndexError",
     "evalue": "list index out of range",
     "output_type": "error",
     "traceback": [
      "\u001b[0;31m---------------------------------------------------------------------------\u001b[0m",
      "\u001b[0;31mIndexError\u001b[0m                                Traceback (most recent call last)",
      "\u001b[0;32m<ipython-input-41-8403a23d20a7>\u001b[0m in \u001b[0;36m<module>\u001b[0;34m()\u001b[0m\n\u001b[1;32m      1\u001b[0m \u001b[0;32mfor\u001b[0m \u001b[0midx\u001b[0m \u001b[0;32min\u001b[0m \u001b[0mrange\u001b[0m\u001b[0;34m(\u001b[0m\u001b[0;36m11\u001b[0m\u001b[0;34m,\u001b[0m\u001b[0;36m101\u001b[0m\u001b[0;34m,\u001b[0m\u001b[0;36m1\u001b[0m\u001b[0;34m)\u001b[0m\u001b[0;34m:\u001b[0m\u001b[0;34m\u001b[0m\u001b[0m\n\u001b[0;32m----> 2\u001b[0;31m     \u001b[0mpostloc\u001b[0m \u001b[0;34m=\u001b[0m \u001b[0mglob\u001b[0m\u001b[0;34m.\u001b[0m\u001b[0mglob\u001b[0m\u001b[0;34m(\u001b[0m\u001b[0mpostloc_root\u001b[0m \u001b[0;34m+\u001b[0m \u001b[0;34m'/GW170814_100injs/postinspiral/lalinferencenest/IMRPhenomPv2pseudoFourPN/*-%d/V1H1L1/summary_statistics.dat'\u001b[0m\u001b[0;34m%\u001b[0m\u001b[0midx\u001b[0m\u001b[0;34m)\u001b[0m\u001b[0;34m[\u001b[0m\u001b[0;36m0\u001b[0m\u001b[0;34m]\u001b[0m\u001b[0;34m\u001b[0m\u001b[0m\n\u001b[0m\u001b[1;32m      3\u001b[0m     \u001b[0mdata\u001b[0m \u001b[0;34m=\u001b[0m \u001b[0mnp\u001b[0m\u001b[0;34m.\u001b[0m\u001b[0mgenfromtxt\u001b[0m\u001b[0;34m(\u001b[0m\u001b[0mpostloc\u001b[0m\u001b[0;34m,\u001b[0m \u001b[0mdtype\u001b[0m\u001b[0;34m=\u001b[0m\u001b[0mNone\u001b[0m\u001b[0;34m,\u001b[0m \u001b[0mnames\u001b[0m\u001b[0;34m=\u001b[0m\u001b[0mTrue\u001b[0m\u001b[0;34m,\u001b[0m \u001b[0musecols\u001b[0m\u001b[0;34m=\u001b[0m\u001b[0;34m(\u001b[0m\u001b[0;36m0\u001b[0m\u001b[0;34m,\u001b[0m\u001b[0;36m1\u001b[0m\u001b[0;34m,\u001b[0m\u001b[0;36m2\u001b[0m\u001b[0;34m,\u001b[0m\u001b[0;36m3\u001b[0m\u001b[0;34m,\u001b[0m\u001b[0;36m4\u001b[0m\u001b[0;34m,\u001b[0m\u001b[0;36m5\u001b[0m\u001b[0;34m,\u001b[0m\u001b[0;36m6\u001b[0m\u001b[0;34m)\u001b[0m\u001b[0;34m)\u001b[0m\u001b[0;34m\u001b[0m\u001b[0m\n\u001b[1;32m      4\u001b[0m     \u001b[0mvar_names\u001b[0m \u001b[0;34m=\u001b[0m \u001b[0;34m[\u001b[0m\u001b[0md\u001b[0m\u001b[0;34m[\u001b[0m\u001b[0;36m0\u001b[0m\u001b[0;34m]\u001b[0m \u001b[0;32mfor\u001b[0m \u001b[0md\u001b[0m \u001b[0;32min\u001b[0m \u001b[0mdata\u001b[0m\u001b[0;34m]\u001b[0m\u001b[0;34m\u001b[0m\u001b[0m\n\u001b[1;32m      5\u001b[0m     \u001b[0mstat_names\u001b[0m \u001b[0;34m=\u001b[0m \u001b[0mdata\u001b[0m\u001b[0;34m.\u001b[0m\u001b[0mdtype\u001b[0m\u001b[0;34m.\u001b[0m\u001b[0mnames\u001b[0m\u001b[0;34m\u001b[0m\u001b[0m\n",
      "\u001b[0;31mIndexError\u001b[0m: list index out of range"
     ]
    }
   ],
   "source": [
    "for idx in range(11,101,1):\n",
    "    postloc = glob.glob(postloc_root + '/GW170814_100injs/postinspiral/lalinferencenest/IMRPhenomPv2pseudoFourPN/*-%d/V1H1L1/summary_statistics.dat'%idx)[0]\n",
    "    data = np.genfromtxt(postloc, dtype=None, names=True, usecols=(0,1,2,3,4,5,6))\n",
    "    var_names = [d[0] for d in data]\n",
    "    stat_names = data.dtype.names\n",
    "    optimal_snr = data[var_names.index('matched_filter_snr')][stat_names.index('mean')+1]\n",
    "    print optimal_snr, idx"
   ]
  },
  {
   "cell_type": "code",
   "execution_count": null,
   "metadata": {},
   "outputs": [],
   "source": []
  }
 ],
 "metadata": {
  "kernelspec": {
   "display_name": "Python 2",
   "language": "python",
   "name": "python2"
  },
  "language_info": {
   "codemirror_mode": {
    "name": "ipython",
    "version": 2
   },
   "file_extension": ".py",
   "mimetype": "text/x-python",
   "name": "python",
   "nbconvert_exporter": "python",
   "pygments_lexer": "ipython2",
   "version": "2.7.9"
  }
 },
 "nbformat": 4,
 "nbformat_minor": 2
}
