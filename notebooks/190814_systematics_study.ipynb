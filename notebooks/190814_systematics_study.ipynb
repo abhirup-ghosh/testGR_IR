{
 "cells": [
  {
   "cell_type": "code",
   "execution_count": 1,
   "metadata": {},
   "outputs": [],
   "source": [
    "import lal, lalsimulation\n",
    "import json\n",
    "import numpy as np\n",
    "import sys\n",
    "sys.path.append('../src')\n",
    "sys.path.append('../scripts')\n",
    "import standard_gwtransf as gw\n",
    "import os\n",
    "import pycbc\n",
    "import pycbc.noise\n",
    "import pycbc.psd\n",
    "from pycbc.frame import query_and_read_frame\n",
    "from pycbc.types import timeseries\n",
    "from pycbc.psd import inverse_spectrum_truncation, interpolate\n",
    "from pycbc.waveform import get_fd_waveform, get_td_waveform\n",
    "import pycbc.filter.matchedfilter as mfilter\n",
    "from pycbc import frame as Fr\n",
    "import scipy.signal\n",
    "import imrtgrutils_final as tgr\n",
    "import nr_fits as nr\n",
    "import glob\n",
    "import matplotlib.pyplot as plt\n",
    "import lalsimulation\n",
    "import h5py"
   ]
  },
  {
   "cell_type": "code",
   "execution_count": null,
   "metadata": {},
   "outputs": [],
   "source": []
  }
 ],
 "metadata": {
  "kernelspec": {
   "display_name": "Python 2",
   "language": "python",
   "name": "python2"
  },
  "language_info": {
   "codemirror_mode": {
    "name": "ipython",
    "version": 2
   },
   "file_extension": ".py",
   "mimetype": "text/x-python",
   "name": "python",
   "nbconvert_exporter": "python",
   "pygments_lexer": "ipython2",
   "version": "2.7.9"
  }
 },
 "nbformat": 4,
 "nbformat_minor": 2
}
