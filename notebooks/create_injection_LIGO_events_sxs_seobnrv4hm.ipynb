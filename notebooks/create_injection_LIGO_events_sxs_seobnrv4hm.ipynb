{
 "cells": [
  {
   "cell_type": "code",
   "execution_count": 2,
   "metadata": {},
   "outputs": [],
   "source": [
    "%matplotlib inline\n",
    "import numpy as np\n",
    "import lal\n",
    "import lalsimulation as lalsim\n",
    "import h5py\n",
    "from lal import MSUN_SI, PC_SI, PI\n",
    "from pycbc import pnutils\n",
    "import os\n",
    "import matplotlib.pyplot as plt"
   ]
  },
  {
   "cell_type": "markdown",
   "metadata": {},
   "source": [
    "# GW190521g"
   ]
  },
  {
   "cell_type": "markdown",
   "metadata": {},
   "source": [
    "### SEOBNRv4HM injection"
   ]
  },
  {
   "cell_type": "code",
   "execution_count": 3,
   "metadata": {},
   "outputs": [],
   "source": [
    "# SEOBNRv4HM IMR run: https://galahad.aei.mpg.de/~rcotesta/LVC/offline_pe/S190521g/SEOBNRv4_HM/posplots.html\n",
    "\n",
    "m1 = 146.030696429\n",
    "m2 = 110.236336509\n",
    "mtotal = m1 + m2\n",
    "a1x, a1y, a1z = 0., 0., -0.0170583152996\n",
    "a1x, a1y, a1z = 0., 0., -0.0168629958068\n",
    "inclination = 0.662494704652\n",
    "polarisation = 1.85211596063\n",
    "ra = 3.30336019023\n",
    "dec = 0.427787569121\n",
    "distance = 4354.77930306\n",
    "matched_filter_snr = 14.1190839091"
   ]
  },
  {
   "cell_type": "code",
   "execution_count": 3,
   "metadata": {},
   "outputs": [
    {
     "data": {
      "text/plain": [
       "0"
      ]
     },
     "execution_count": 3,
     "metadata": {},
     "output_type": "execute_result"
    }
   ],
   "source": [
    "command='pycbc_generate_hwinj --approximant SEOBNRv4HM --mass1 193.213626819 --mass2 96.6068134095 \\\n",
    "--spin1z -0.171452322533 --spin2z -0.0881284619252 \\\n",
    "--ra=3.28231874133 --dec=0.475837821099 --polarization 1.55948292938 --inclination 0.80501613159 \\\n",
    "--network-snr 14.3536640824 --instruments H1 L1 V1 \\\n",
    "--geocentric-end-time 1242442967.45 --gps-start-time 1242442821 --gps-end-time 1242442986 \\\n",
    "--asd-file H1:/home/abhirup/opt/lalsuite_pSEOBNRv4HM_tgr_20190724_97bbac2d/share/lalsimulation/LIGO-T1800545-v1-aLIGO_O3low.txt \\\n",
    "L1:/home/abhirup/opt/lalsuite_pSEOBNRv4HM_tgr_20190724_97bbac2d/share/lalsimulation/LIGO-T1800545-v1-aLIGO_O3low.txt \\\n",
    "V1:/home/abhirup/opt/lalsuite_pSEOBNRv4HM_tgr_20190724_97bbac2d/share/lalsimulation/LIGO-T1800545-v1-AdV_O3low.txt \\\n",
    "--taper TAPER_STARTEND --waveform-low-frequency-cutoff 4.4 --low-frequency-cutoff 11.0 --sample-rate 4096 --tag SEOBNRv4HM'\n",
    "\n",
    "os.system(command)"
   ]
  },
  {
   "cell_type": "code",
   "execution_count": 6,
   "metadata": {},
   "outputs": [
    {
     "data": {
      "text/plain": [
       "[<matplotlib.lines.Line2D at 0x7fce96c82e50>]"
      ]
     },
     "execution_count": 6,
     "metadata": {},
     "output_type": "execute_result"
    },
    {
     "data": {
      "image/png": "[encoded data removed]",
      "text/plain": [
       "<Figure size 432x288 with 1 Axes>"
      ]
     },
     "metadata": {
      "needs_background": "light"
     },
     "output_type": "display_data"
    }
   ],
   "source": [
    "plt.plot(np.loadtxt('SEOBNRv4HM_1242442957_H1.txt'))\n",
    "plt.plot(np.loadtxt('SEOBNRv4HM_1242442957_L1.txt'))\n",
    "plt.plot(np.loadtxt('SEOBNRv4HM_1242442957_V1.txt'))"
   ]
  },
  {
   "cell_type": "markdown",
   "metadata": {},
   "source": [
    "# GW150914"
   ]
  },
  {
   "cell_type": "markdown",
   "metadata": {},
   "source": [
    "### SEOBNRv4HM injection"
   ]
  },
  {
   "cell_type": "code",
   "execution_count": 1,
   "metadata": {},
   "outputs": [],
   "source": [
    "# IMRPhenomPv2 IMR run: \n",
    "#https://ldas-jobs.ligo.caltech.edu/~abhirup.ghosh/ER8/2015/September/15/1126259462p3910/G184098/lalinference/20180820_TGRO2_rerun_updatedcalib_BW_IMRPPv2/IMR_mcprior/lalinferencenest/IMRPhenomPv2pseudoFourPN/1126259462.39-0/H1L1/posplots.html\n",
    "\n",
    "m1 = 38.5286154115\n",
    "m2 = 33.4005351902\n",
    "mtotal = m1 + m2\n",
    "a1x, a1y, a1z = 0., 0., 0.00346990177835\n",
    "a1x, a1y, a1z = 0., 0., -0.0440040414498\n",
    "inclination = 2.68692226541\n",
    "polarisation = 1.57871770912\n",
    "ra = 1.6853118758\n",
    "dec = -1.21792135686\n",
    "distance = 429.261583088\n",
    "matched_filter_snr = 25.2729111759"
   ]
  },
  {
   "cell_type": "code",
   "execution_count": 3,
   "metadata": {},
   "outputs": [
    {
     "data": {
      "text/plain": [
       "0"
      ]
     },
     "execution_count": 3,
     "metadata": {},
     "output_type": "execute_result"
    }
   ],
   "source": [
    "command='pycbc_generate_hwinj --approximant SEOBNRv4HM --mass1 38.5286154115 --mass2 33.4005351902 \\\n",
    "--spin1z 0.00346990177835 --spin2z -0.0440040414498 \\\n",
    "--ra=1.6853118758 --dec=-1.21792135686 --polarization 1.57871770912 --inclination 2.68692226541 \\\n",
    "--network-snr 25.2729111759 --instruments H1 L1 \\\n",
    "--geocentric-end-time 1242442967.45 --gps-start-time 1242442821 --gps-end-time 1242442986 \\\n",
    "--asd-file H1:/home/abhirup/opt/lalsuite_pSEOBNRv4HM_tgr_20190724_97bbac2d/share/lalsimulation/LIGO-P1200087-v18-aLIGO_EARLY_HIGH.txt \\\n",
    "L1:/home/abhirup/opt/lalsuite_pSEOBNRv4HM_tgr_20190724_97bbac2d/share/lalsimulation/LIGO-P1200087-v18-aLIGO_EARLY_HIGH.txt \\\n",
    "--taper TAPER_STARTEND --waveform-low-frequency-cutoff 5.0 --low-frequency-cutoff 20.0 --sample-rate 4096 --tag SEOBNRv4HM_GW150914'\n",
    "\n",
    "os.system(command)"
   ]
  },
  {
   "cell_type": "code",
   "execution_count": null,
   "metadata": {},
   "outputs": [],
   "source": []
  }
 ],
 "metadata": {
  "kernelspec": {
   "display_name": "Python 2",
   "language": "python",
   "name": "python2"
  },
  "language_info": {
   "codemirror_mode": {
    "name": "ipython",
    "version": 2
   },
   "file_extension": ".py",
   "mimetype": "text/x-python",
   "name": "python",
   "nbconvert_exporter": "python",
   "pygments_lexer": "ipython2",
   "version": "2.7.9"
  }
 },
 "nbformat": 4,
 "nbformat_minor": 2
}
