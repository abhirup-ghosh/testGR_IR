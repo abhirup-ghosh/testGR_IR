{
 "cells": [
  {
   "cell_type": "code",
   "execution_count": 1,
   "metadata": {},
   "outputs": [],
   "source": [
    "import numpy as np\n",
    "import matplotlib.pyplot as plt\n",
    "import os"
   ]
  },
  {
   "cell_type": "code",
   "execution_count": 2,
   "metadata": {},
   "outputs": [],
   "source": [
    "# Reading all segments data(start time, end time) into individual detector dictionaries\n",
    "\n",
    "H1={}\n",
    "L1={}\n",
    "V1={}\n",
    "keys = {'data_seg','CAT1','CAT2','CAT3'} # dictionary keys\n",
    "for ii in keys:\n",
    "    temp = np.genfromtxt('H1_CBC_%s.txt'%ii,dtype=None,names = ['start','end','length'], delimiter=\" \")\n",
    "    H1[ii+'_start'] = temp['start']\n",
    "    H1[ii+'_end'] = temp['end']\n",
    "    temp = np.genfromtxt('L1_CBC_%s.txt'%ii,dtype=None,names = ['start','end','length'], delimiter=\" \")\n",
    "    L1[ii+'_start'] = temp['start']\n",
    "    L1[ii+'_end'] = temp['end']\n",
    "    temp = np.genfromtxt('V1_CBC_%s.txt'%ii,dtype=None,names = ['start','end','length'], delimiter=\" \")\n",
    "    V1[ii+'_start'] = temp['start']\n",
    "    V1[ii+'_end'] = temp['end']\n",
    " \n",
    "dets = [H1,L1,V1]  # combine detector dictionaries to a list\n",
    "start = min(min(H1['data_seg_start']),min(L1['data_seg_start']),min(V1['data_seg_start']))\n",
    "end = max(max(H1['data_seg_end']),max(L1['data_seg_end']),max(V1['data_seg_end']))\n",
    "T = np.arange(start,end+1) # Entire segment of data\n",
    "\n",
    "# Initializing  data quality flags for entire sigment of data\n",
    "for ii in keys:\n",
    "    H1[ii+'_flag'] = np.zeros(len(T))   \n",
    "    L1[ii+'_flag'] = np.zeros(len(T))\n",
    "    V1[ii+'_flag'] = np.zeros(len(T))"
   ]
  },
  {
   "cell_type": "code",
   "execution_count": 3,
   "metadata": {},
   "outputs": [
    {
     "name": "stdout",
     "output_type": "stream",
     "text": [
      "CAT1\n",
      "data_seg\n",
      "CAT3\n",
      "CAT2\n",
      "CAT1\n",
      "data_seg\n",
      "CAT3\n",
      "CAT2\n",
      "CAT1\n",
      "data_seg\n",
      "CAT3\n",
      "CAT2\n"
     ]
    }
   ],
   "source": [
    "# Appending the flags based on the veto sigments: will assign 0 or 1 on each second depending of \n",
    "# segment data\n",
    "for ii in dets:\n",
    "    for jj in keys:\n",
    "        temp_start = ii[jj+'_start']\n",
    "        temp_end = ii[jj+'_end']\n",
    "        for kk in xrange(len(temp_start)):\n",
    "            idx_start = np.where(T==temp_start[kk])\n",
    "            idx_end = np.where(T==temp_end[kk])\n",
    "            ii[jj+'_flag'][idx_start[0][0]:idx_end[0][0]+1] = 1 \n",
    "        print jj\n",
    "# Joining the flags\n",
    "H1['join_flag'] = H1['CAT1_flag']*H1['CAT2_flag']*H1['CAT3_flag']*H1['data_seg_flag'] \n",
    "L1['join_flag'] = L1['CAT1_flag']*L1['CAT2_flag']*L1['CAT3_flag']*L1['data_seg_flag']\n",
    "V1['join_flag'] = V1['CAT1_flag']*V1['CAT2_flag']*V1['CAT3_flag']*V1['data_seg_flag']\n",
    "L1H1_flag = H1['join_flag']*L1['join_flag']\n",
    "L1H1V1_flag = H1['join_flag']*L1['join_flag']*V1['join_flag']\n",
    "np.savez('o2_quality_seg',H1=H1,L1=L1,V1=V1,T=T,L1H1_flag=L1H1_flag,L1H1V1_flag=L1H1V1_flag)"
   ]
  },
  {
   "cell_type": "code",
   "execution_count": 25,
   "metadata": {},
   "outputs": [
    {
     "data": {
      "image/png": "[encoded data removed]",
      "text/plain": [
       "<matplotlib.figure.Figure at 0x1dcab1b50>"
      ]
     },
     "metadata": {},
     "output_type": "display_data"
    }
   ],
   "source": [
    "plt.plot(T,L1H1_flag,label='L1H1')\n",
    "plt.plot(T,L1H1V1_flag,label='L1H1V1')\n",
    "plt.xlabel('gps time')\n",
    "plt.ylabel('quality')\n",
    "plt.legend()\n",
    "plt.xlim([1182001000,1182001200])\n",
    "plt.show()"
   ]
  },
  {
   "cell_type": "code",
   "execution_count": 27,
   "metadata": {},
   "outputs": [],
   "source": [
    "# saving quality segment start time and end time to a txt file\n",
    "\n",
    "out_file='o2_L1H1V1_quality_segments.txt'\n",
    "os.system('rm %s'%out_file)\n",
    "idx = np.where(L1H1V1_flag==1)[0]\n",
    "with open(out_file, \"a\") as myfile:\n",
    "        myfile.write('start\\tend\\tseg_len\\n')\n",
    "s = idx[0]\n",
    "for ii in xrange(len(idx)):\n",
    "    if ii == len(idx)-1:\n",
    "        e = idx[ii]\n",
    "        with open(out_file, \"a\") as myfile:\n",
    "            myfile.write('%d\\t%d\\t%d\\n'%(T[s],T[e],T[e]-T[s]))\n",
    "    elif idx[ii+1]-idx[ii]==1:\n",
    "        continue\n",
    "    else:\n",
    "        e = idx[ii]\n",
    "        with open(out_file, \"a\") as myfile:\n",
    "            myfile.write('%d\\t%d\\t%d\\n'%(T[s],T[e],T[e]-T[s]))\n",
    "        s = idx[ii+1]\n",
    "        \n",
    "out_file='o2_L1H1_quality_segments.txt'\n",
    "os.system('rm %s'%out_file)\n",
    "idx = np.where(L1H1_flag==1)[0]\n",
    "with open(out_file, \"a\") as myfile:\n",
    "        myfile.write('start\\tend\\tseg_len\\n')\n",
    "s = idx[0]\n",
    "for ii in xrange(len(idx)):\n",
    "    if ii == len(idx)-1:\n",
    "        e = idx[ii]\n",
    "        with open(out_file, \"a\") as myfile:\n",
    "            myfile.write('%d\\t%d\\t%d\\n'%(T[s],T[e],T[e]-T[s]))\n",
    "    elif idx[ii+1]-idx[ii]==1:\n",
    "        continue\n",
    "    else:\n",
    "        e = idx[ii]\n",
    "        with open(out_file, \"a\") as myfile:\n",
    "            myfile.write('%d\\t%d\\t%d\\n'%(T[s],T[e],T[e]-T[s]))\n",
    "        s = idx[ii+1]\n",
    "    "
   ]
  },
  {
   "cell_type": "code",
   "execution_count": null,
   "metadata": {},
   "outputs": [],
   "source": []
  }
 ],
 "metadata": {
  "kernelspec": {
   "display_name": "Python 2",
   "language": "python",
   "name": "python2"
  },
  "language_info": {
   "codemirror_mode": {
    "name": "ipython",
    "version": 2
   },
   "file_extension": ".py",
   "mimetype": "text/x-python",
   "name": "python",
   "nbconvert_exporter": "python",
   "pygments_lexer": "ipython2",
   "version": "2.7.13"
  }
 },
 "nbformat": 4,
 "nbformat_minor": 2
}
