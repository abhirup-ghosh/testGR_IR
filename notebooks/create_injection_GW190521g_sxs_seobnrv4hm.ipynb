{
 "cells": [
  {
   "cell_type": "code",
   "execution_count": 1,
   "metadata": {},
   "outputs": [],
   "source": [
    "%matplotlib inline\n",
    "import numpy as np\n",
    "import lal\n",
    "import lalsimulation as lalsim\n",
    "import h5py\n",
    "from lal import MSUN_SI, PC_SI, PI\n",
    "from pycbc import pnutils\n",
    "import os\n",
    "import matplotlib.pyplot as plt"
   ]
  },
  {
   "cell_type": "markdown",
   "metadata": {},
   "source": [
    "### SEOBNRv4HM injection"
   ]
  },
  {
   "cell_type": "code",
   "execution_count": 3,
   "metadata": {},
   "outputs": [],
   "source": [
    "# SEOBNRv4HM IMR run: https://galahad.aei.mpg.de/~rcotesta/LVC/offline_pe/S190521g/SEOBNRv4_HM/posplots.html\n",
    "\n",
    "m1 = 146.030696429\n",
    "m2 = 110.236336509\n",
    "mtotal = m1 + m2\n",
    "a1x, a1y, a1z = 0., 0., -0.0170583152996\n",
    "a1x, a1y, a1z = 0., 0., -0.0168629958068\n",
    "inclination = 0.662494704652\n",
    "polarisation = 1.85211596063\n",
    "ra = 3.30336019023\n",
    "dec = 0.427787569121\n",
    "distance = 4354.77930306\n",
    "matched_filter_snr = 14.1190839091"
   ]
  },
  {
   "cell_type": "code",
   "execution_count": 3,
   "metadata": {},
   "outputs": [
    {
     "data": {
      "text/plain": [
       "0"
      ]
     },
     "execution_count": 3,
     "metadata": {},
     "output_type": "execute_result"
    }
   ],
   "source": [
    "command='pycbc_generate_hwinj --approximant SEOBNRv4HM --mass1 193.213626819 --mass2 96.6068134095 \\\n",
    "--spin1z -0.171452322533 --spin2z -0.0881284619252 \\\n",
    "--ra=3.28231874133 --dec=0.475837821099 --polarization 1.55948292938 --inclination 0.80501613159 \\\n",
    "--network-snr 14.3536640824 --instruments H1 L1 V1 \\\n",
    "--geocentric-end-time 1242442967.45 --gps-start-time 1242442821 --gps-end-time 1242442986 \\\n",
    "--asd-file H1:/home/abhirup/opt/lalsuite_pSEOBNRv4HM_tgr_20190724_97bbac2d/share/lalsimulation/LIGO-T1800545-v1-aLIGO_O3low.txt \\\n",
    "L1:/home/abhirup/opt/lalsuite_pSEOBNRv4HM_tgr_20190724_97bbac2d/share/lalsimulation/LIGO-T1800545-v1-aLIGO_O3low.txt \\\n",
    "V1:/home/abhirup/opt/lalsuite_pSEOBNRv4HM_tgr_20190724_97bbac2d/share/lalsimulation/LIGO-T1800545-v1-AdV_O3low.txt \\\n",
    "--taper TAPER_STARTEND --waveform-low-frequency-cutoff 4.4 --low-frequency-cutoff 11.0 --sample-rate 4096 --tag SEOBNRv4HM'\n",
    "\n",
    "os.system(command)"
   ]
  },
  {
   "cell_type": "code",
   "execution_count": 6,
   "metadata": {},
   "outputs": [
    {
     "data": {
      "text/plain": [
       "[<matplotlib.lines.Line2D at 0x7fce96c82e50>]"
      ]
     },
     "execution_count": 6,
     "metadata": {},
     "output_type": "execute_result"
    },
    {
     "data": {
      "image/png": "[encoded data removed]",
      "text/plain": [
       "<Figure size 432x288 with 1 Axes>"
      ]
     },
     "metadata": {
      "needs_background": "light"
     },
     "output_type": "display_data"
    }
   ],
   "source": [
    "plt.plot(np.loadtxt('SEOBNRv4HM_1242442957_H1.txt'))\n",
    "plt.plot(np.loadtxt('SEOBNRv4HM_1242442957_L1.txt'))\n",
    "plt.plot(np.loadtxt('SEOBNRv4HM_1242442957_V1.txt'))"
   ]
  },
  {
   "cell_type": "markdown",
   "metadata": {},
   "source": [
    "## NR Injection: SXS:BBH:0127"
   ]
  },
  {
   "cell_type": "code",
   "execution_count": 4,
   "metadata": {},
   "outputs": [
    {
     "name": "stdout",
     "output_type": "stream",
     "text": [
      "146.7514564982691 109.51773850113356 0.0404270480451 0.0888845333707 0.0660845796841 0.0119045814591 -0.0173306049795 -0.17876862251\n",
      "pycbc_generate_hwinj --numrel-data /home/abhirup/ligo-nr-data/lvcnr-lfs/SXS/SXS_BBH_0006_Res5.h5 --approximant NR_hdf5 --order pseudoFourPN --mass1 146.751456 --mass2 109.517739 --spin1x 0.040427 --spin2x 0.088885 --spin1y 0.066085 --spin2y 0.011905 --spin1z -0.017331 --spin2z -0.178769 --ra=3.28231874133 --dec=0.475837821099 --polarization 1.55948292938 --inclination 0.80501613159 --network-snr 14.3536640824 --instruments H1 L1 V1 --geocentric-end-time 1242442967.45 --gps-start-time 1242442821 --gps-end-time 1242442986 --asd-file H1:/home/abhirup/opt/lalsuite_pSEOBNRv4HM_tgr_20190724_97bbac2d/share/lalsimulation/LIGO-T1800545-v1-aLIGO_O3low.txt L1:/home/abhirup/opt/lalsuite_pSEOBNRv4HM_tgr_20190724_97bbac2d/share/lalsimulation/LIGO-T1800545-v1-aLIGO_O3low.txt V1:/home/abhirup/opt/lalsuite_pSEOBNRv4HM_tgr_20190724_97bbac2d/share/lalsimulation/LIGO-T1800545-v1-AdV_O3low.txt --taper TAPER_STARTEND --waveform-low-frequency-cutoff 4.4 --low-frequency-cutoff 11 --sample-rate 4096 --tag SXS\n"
     ]
    },
    {
     "data": {
      "text/plain": [
       "256"
      ]
     },
     "execution_count": 4,
     "metadata": {},
     "output_type": "execute_result"
    }
   ],
   "source": [
    "filepath = '/home/abhirup/ligo-nr-data/lvcnr-lfs/SXS/SXS_BBH_0127_Res5.h5'\n",
    "\n",
    "f = h5py.File(filepath, 'r')\n",
    "\n",
    "params = lal.CreateDict()\n",
    "lalsim.SimInspiralWaveformParamsInsertNumRelData(params, filepath)\n",
    "\n",
    "# Metadata parameters masses:\n",
    "# Note there is an intrinsic check the make sure the mass ratio is correct\n",
    "\n",
    "m1 = f.attrs['mass1']*mtotal\n",
    "m2 = f.attrs['mass2']*mtotal\n",
    "\n",
    "f_lower = f.attrs['f_lower_at_1MSUN']/mtotal  # this generates the whole NR waveforms\n",
    "\n",
    "fRef = -1.#f_lower   #beginning of the waveform\n",
    "fStart = f_lower#fRef\n",
    "\n",
    "phiRef = 0.0\n",
    "\n",
    "# Spins\n",
    "# The NR spins need to be transformed into the lal frame. We wrote a function that does that for you:\n",
    "spins = lalsim.SimInspiralNRWaveformGetSpinsFromHDF5File(fRef, mtotal,filepath)\n",
    "\n",
    "s1x = spins[0]\n",
    "s1y = spins[1]\n",
    "s1z = spins[2]\n",
    "s2x = spins[3]\n",
    "s2y = spins[4]\n",
    "s2z = spins[5]\n",
    "\n",
    "print m1, m2, s1x, s2x, s1y, s2y, s1z, s2z\n",
    "\n",
    "f.close()\n",
    "\n",
    "command='pycbc_generate_hwinj --numrel-data /home/abhirup/ligo-nr-data/lvcnr-lfs/SXS/SXS_BBH_0006_Res5.h5 \\\n",
    "--approximant NR_hdf5 --order pseudoFourPN --mass1 %f --mass2 %f \\\n",
    "--spin1x %f --spin2x %f --spin1y %f --spin2y %f --spin1z %f --spin2z %f \\\n",
    "--ra=3.28231874133 --dec=0.475837821099 --polarization 1.55948292938 --inclination 0.80501613159 \\\n",
    "--network-snr 14.3536640824 --instruments H1 L1 V1 \\\n",
    "--geocentric-end-time 1242442967.45 --gps-start-time 1242442821 --gps-end-time 1242442986 \\\n",
    "--asd-file H1:/home/abhirup/opt/lalsuite_pSEOBNRv4HM_tgr_20190724_97bbac2d/share/lalsimulation/LIGO-T1800545-v1-aLIGO_O3low.txt \\\n",
    "L1:/home/abhirup/opt/lalsuite_pSEOBNRv4HM_tgr_20190724_97bbac2d/share/lalsimulation/LIGO-T1800545-v1-aLIGO_O3low.txt \\\n",
    "V1:/home/abhirup/opt/lalsuite_pSEOBNRv4HM_tgr_20190724_97bbac2d/share/lalsimulation/LIGO-T1800545-v1-AdV_O3low.txt \\\n",
    "--taper TAPER_STARTEND --waveform-low-frequency-cutoff 4.4 --low-frequency-cutoff 11 --sample-rate 4096 --tag SXS'%(m1, m2, s1x, s2x, s1y, s2y, s1z, s2z)\n",
    "\n",
    "print command\n",
    "os.system(command)"
   ]
  },
  {
   "cell_type": "code",
   "execution_count": 8,
   "metadata": {},
   "outputs": [
    {
     "data": {
      "text/plain": [
       "[<matplotlib.lines.Line2D at 0x7f36b08d8d90>]"
      ]
     },
     "execution_count": 8,
     "metadata": {},
     "output_type": "execute_result"
    },
    {
     "data": {
      "image/png": "[encoded data removed]",
      "text/plain": [
       "<Figure size 432x288 with 1 Axes>"
      ]
     },
     "metadata": {
      "needs_background": "light"
     },
     "output_type": "display_data"
    }
   ],
   "source": [
    "plt.plot(np.loadtxt('SXS_1242442957_H1.txt'))\n",
    "plt.plot(np.loadtxt('SXS_1242442957_L1.txt'))\n",
    "plt.plot(np.loadtxt('SXS_1242442957_V1.txt'))"
   ]
  },
  {
   "cell_type": "code",
   "execution_count": null,
   "metadata": {},
   "outputs": [],
   "source": []
  }
 ],
 "metadata": {
  "kernelspec": {
   "display_name": "Python 2",
   "language": "python",
   "name": "python2"
  },
  "language_info": {
   "codemirror_mode": {
    "name": "ipython",
    "version": 2
   },
   "file_extension": ".py",
   "mimetype": "text/x-python",
   "name": "python",
   "nbconvert_exporter": "python",
   "pygments_lexer": "ipython2",
   "version": "2.7.9"
  }
 },
 "nbformat": 4,
 "nbformat_minor": 2
}
